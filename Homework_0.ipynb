{
 "cells": [
  {
   "cell_type": "markdown",
   "metadata": {},
   "source": [
    "# <font style=\"color:black\">Lecture 1: Homework Problem</font>\n",
    "\n",
    "In this first homework set, I want you to make sure that you can use GitHub, MS Code, and OpenCV.\n",
    "You should (already to be able to read this document), clone the Github classroom assignment and edit it in VS Code.  In this python notebook, do the following:\n",
    "\n",
    "* Load an (Grayscale) image  (‘Data/Apollo_11_Launch.jpg’)\n",
    "* View image\n",
    "* Crop image\n",
    "* Edit brightness of image\n",
    "* Rotate image\n",
    "* Save modified image"
   ]
  },
  {
   "cell_type": "code",
   "execution_count": 1,
   "metadata": {},
   "outputs": [],
   "source": [
    "# Import openCV\n",
    "import cv2"
   ]
  },
  {
   "cell_type": "code",
   "execution_count": 2,
   "metadata": {},
   "outputs": [],
   "source": [
    "\n",
    "# Load a Grayscale image\n",
    "image = cv2.imread(\"Data/Apollo_11_Launch.jpg\", cv2.IMREAD_GRAYSCALE)"
   ]
  },
  {
   "cell_type": "code",
   "execution_count": 3,
   "metadata": {},
   "outputs": [],
   "source": [
    "# View the original image\n",
    "cv2.imshow(\"Original Image\", image)\n",
    "cv2.waitKey(0)\n",
    "cv2.destroyAllWindows()"
   ]
  },
  {
   "cell_type": "code",
   "execution_count": 15,
   "metadata": {},
   "outputs": [],
   "source": [
    "# Crop the image\n",
    "x, y, h, w = 500, 50, 600, 300\n",
    "edited_image = image[y:y+h, x:x+w] "
   ]
  },
  {
   "cell_type": "code",
   "execution_count": 16,
   "metadata": {},
   "outputs": [],
   "source": [
    "# Edit brightness of image\n",
    "brightness_value = 100 \n",
    "edited_image = cv2.add(edited_image, brightness_value)\n",
    " "
   ]
  },
  {
   "cell_type": "code",
   "execution_count": 17,
   "metadata": {},
   "outputs": [],
   "source": [
    "# Rotate the image\n",
    "(h, w) = edited_image.shape[:2]    \n",
    "center = (w//4, h //4)     \n",
    "angle = 45                  \n",
    "scale = 1.0                 \n",
    "rotation_matrix = cv2.getRotationMatrix2D(center, angle, scale) \n",
    "edited_image = cv2.warpAffine(edited_image, rotation_matrix, (w, h))  \n"
   ]
  },
  {
   "cell_type": "code",
   "execution_count": 18,
   "metadata": {},
   "outputs": [
    {
     "data": {
      "text/plain": [
       "True"
      ]
     },
     "execution_count": 18,
     "metadata": {},
     "output_type": "execute_result"
    }
   ],
   "source": [
    "# Show Output Image and Save\n",
    "cv2.imshow(\"Edited Image\", edited_image)\n",
    "cv2.waitKey(0)\n",
    "cv2.destroyAllWindows()\n",
    "cv2.imwrite(\"Data/Apollo_11_Launch_Edit.jpg\", edited_image)"
   ]
  }
 ],
 "metadata": {
  "kernelspec": {
   "display_name": "ECE1390",
   "language": "python",
   "name": "python3"
  },
  "language_info": {
   "codemirror_mode": {
    "name": "ipython",
    "version": 3
   },
   "file_extension": ".py",
   "mimetype": "text/x-python",
   "name": "python",
   "nbconvert_exporter": "python",
   "pygments_lexer": "ipython3",
   "version": "3.12.9"
  }
 },
 "nbformat": 4,
 "nbformat_minor": 2
}
